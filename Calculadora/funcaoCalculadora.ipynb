{
  "cells": [
    {
      "cell_type": "markdown",
      "metadata": {
        "colab_type": "text",
        "id": "view-in-github"
      },
      "source": [
        "<a href=\"https://colab.research.google.com/github/paulo5150/talentocloud-python/blob/main/funcaoCalculadora.ipynb\" target=\"_parent\"><img src=\"https://colab.research.google.com/assets/colab-badge.svg\" alt=\"Open In Colab\"/></a>"
      ]
    },
    {
      "cell_type": "code",
      "execution_count": null,
      "metadata": {
        "colab": {
          "base_uri": "https://localhost:8080/"
        },
        "id": "4_oMkB6vBnVQ",
        "outputId": "82c19d60-c4ba-4dba-bac0-caa30915393d"
      },
      "outputs": [
        {
          "data": {
            "text/plain": [
              "0.2"
            ]
          },
          "execution_count": 11,
          "metadata": {},
          "output_type": "execute_result"
        }
      ],
      "source": [
        "#Código para a função calculadora\n",
        "def calculadora(num1, num2, selecao):\n",
        "\tif selecao == 1:\n",
        "\t\treturn num1 + num2\n",
        "\telif selecao == 2:\n",
        "\t\treturn num1 - num2\n",
        "\telif selecao == 3:\n",
        "\t\treturn num1 * num2\n",
        "\telif selecao == 4:\n",
        "\t\tif num2 == 0:\n",
        "\t\t\treturn \"Operação Inválida\"\n",
        "\t\telse: \n",
        "\t\t\treturn num1 / num2\n",
        "\telse:\n",
        "\t\treturn 0\n",
        "\n",
        "num1 = 20; num2 = 100; selecao = 4\n",
        "\n",
        "calculadora(num1, num2, selecao)"
      ]
    }
  ],
  "metadata": {
    "colab": {
      "authorship_tag": "ABX9TyNhEdFLfKxxp3NMK5lPoV7v",
      "include_colab_link": true,
      "provenance": []
    },
    "kernelspec": {
      "display_name": "Python 3",
      "name": "python3"
    },
    "language_info": {
      "name": "python"
    }
  },
  "nbformat": 4,
  "nbformat_minor": 0
}
