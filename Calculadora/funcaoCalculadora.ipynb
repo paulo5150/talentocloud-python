{
  "nbformat": 4,
  "nbformat_minor": 0,
  "metadata": {
    "colab": {
      "provenance": [],
      "authorship_tag": "ABX9TyNhEdFLfKxxp3NMK5lPoV7v",
      "include_colab_link": true
    },
    "kernelspec": {
      "name": "python3",
      "display_name": "Python 3"
    },
    "language_info": {
      "name": "python"
    }
  },
  "cells": [
    {
      "cell_type": "markdown",
      "metadata": {
        "id": "view-in-github",
        "colab_type": "text"
      },
      "source": [
        "<a href=\"https://colab.research.google.com/github/paulo5150/talentocloud-python/blob/main/funcaoCalculadora.ipynb\" target=\"_parent\"><img src=\"https://colab.research.google.com/assets/colab-badge.svg\" alt=\"Open In Colab\"/></a>"
      ]
    },
    {
      "cell_type": "code",
      "execution_count": 11,
      "metadata": {
        "colab": {
          "base_uri": "https://localhost:8080/"
        },
        "id": "4_oMkB6vBnVQ",
        "outputId": "82c19d60-c4ba-4dba-bac0-caa30915393d"
      },
      "outputs": [
        {
          "output_type": "execute_result",
          "data": {
            "text/plain": [
              "0.2"
            ]
          },
          "metadata": {},
          "execution_count": 11
        }
      ],
      "source": [
        "def calculadora(num1, num2, selecao):\n",
        "\tif selecao == 1:\n",
        "\t\tresultado = num1 + num2\n",
        "\t\treturn resultado\n",
        "\telif selecao == 2:\n",
        "\t\tresultado = num1 - num2\n",
        "\t\treturn resultado\n",
        "\telif selecao == 3:\n",
        "\t\tresultado = num1 * num2\n",
        "\t\treturn resultado\n",
        "\telif selecao == 4:\n",
        "\t\tif num2 == 0:\n",
        "\t\t\treturn \"Operação Inválida\"\n",
        "\t\telse:\n",
        "\t\t\tresultado = num1 / num2\n",
        "\t\t\treturn resultado\n",
        "\telse:\n",
        "\t\treturn 0\n",
        "\n",
        "num1 = 20; num2 = 100; selecao = 4\n",
        "\n",
        "calculadora(num1, num2, selecao)"
      ]
    }
  ]
}