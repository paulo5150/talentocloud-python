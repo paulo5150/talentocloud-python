{
  "nbformat": 4,
  "nbformat_minor": 0,
  "metadata": {
    "colab": {
      "provenance": [],
      "authorship_tag": "ABX9TyP9r+aYwRGZ4Bv8HYlGh3Os",
      "include_colab_link": true
    },
    "kernelspec": {
      "name": "python3",
      "display_name": "Python 3"
    },
    "language_info": {
      "name": "python"
    }
  },
  "cells": [
    {
      "cell_type": "markdown",
      "metadata": {
        "id": "view-in-github",
        "colab_type": "text"
      },
      "source": [
        "<a href=\"https://colab.research.google.com/github/paulo5150/talentocloud-python/blob/main/Nome_Idade.ipynb\" target=\"_parent\"><img src=\"https://colab.research.google.com/assets/colab-badge.svg\" alt=\"Open In Colab\"/></a>"
      ]
    },
    {
      "cell_type": "markdown",
      "source": [
        "# **Nome e Idade**\n",
        "Desenvolva um programa que recebe do usuário nome completo e ano de nascimento que seja entre 1922 e 2021.\n",
        "A partir dessas informações, o sistema mostrará o nome do usuário e a idade que completou, ou completará, no ano atual (2022).\n",
        "\n",
        "Caso o usuário não digite um número ou apareça um inválido no campo do ano, o sistema informará o erro e continuará perguntando até que um valor correto seja preenchido."
      ],
      "metadata": {
        "id": "EQqABIgZFYkC"
      }
    },
    {
      "cell_type": "code",
      "execution_count": 10,
      "metadata": {
        "colab": {
          "base_uri": "https://localhost:8080/"
        },
        "id": "N9sAIYYRFO4V",
        "outputId": "d6743125-a4fd-4275-84e1-a3b5a57ae255"
      },
      "outputs": [
        {
          "output_type": "stream",
          "name": "stdout",
          "text": [
            "digite o nome completo: \n",
            "Paulo Lima\n",
            "Digite o ano de nascimento: \n",
            "1980\n",
            "Nome: Paulo Lima - Idade: 42\n"
          ]
        }
      ],
      "source": [
        "anoCorreto = False\n",
        "\n",
        "while (anoCorreto == False):\n",
        "\n",
        "  print(\"digite o nome completo: \")\n",
        "  nomeCompleto = input()\n",
        "  print(\"Digite o ano de nascimento: \")\n",
        "\n",
        "  try:\n",
        "\n",
        "    anoNascimento = int(input())\n",
        "\n",
        "    if (anoNascimento >= 1922 and anoNascimento < 2021):\n",
        "\n",
        "      anoCorreto = True\n",
        "\n",
        "      idade = 2022 - anoNascimento\n",
        "\n",
        "      print(\"Nome: \" + nomeCompleto + \" - Idade: \" + str(idade))\n",
        "    else:\n",
        "      print(\"Ano de nascimento inválido\")\n",
        "\n",
        "  except:\n",
        "\n",
        "    print(\"Caracteres inválidos\")"
      ]
    }
  ]
}